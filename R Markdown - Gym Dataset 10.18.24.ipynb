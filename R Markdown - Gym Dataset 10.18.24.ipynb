{
    "cells": [
        {
            "cell_type": "markdown",
            "metadata": {},
            "source": [
                "## 1. Introduction\n",
                "\n",
                "As individuals look for ways to improve their physical health, many will often focus on going to the gym as a starting point. Regardless of experience level, going to the gym develop or enhance one's physical well-being. However, going to the gym is not as straight-forward as it may seem at a glance.\n",
                "\n",
                "Although some may find it to be intimidating due to the amount of equipment, it just means that there is something for everyone. This intimidation ultimately discourages people to maintain their membership for a very short amount of time. But, what can we do to address these issues?\n",
                "\n",
                "This begins with taking a look at the \"Gym Members Exercise Dataset\" by Vala Khorasani.\n",
                "\n",
                "###### Source: [Gym Members Exercise Dataset](https://www.kaggle.com/datasets/valakhorasani/gym-members-exercise-dataset)\n"
            ]
        },
        {
            "cell_type": "code",
            "execution_count": null,
            "metadata": {},
            "outputs": [],
            "source": [
                "# Load the tidyverse package\n",
                "library('tidyverse') \n",
                "\n",
                "# Import the dataset\n",
                "gym <- read_csv(\"C:/Users/Johns/Desktop/Data Files/CSV Files/gym_members_exercise_tracking.csv\")\n"
            ]
        },
        {
            "cell_type": "markdown",
            "metadata": {},
            "source": "\n"
        },
        {
            "cell_type": "code",
            "execution_count": null,
            "metadata": {},
            "outputs": [],
            "source": [
                "# Structure of the dataset\n",
                "str(gym)\n"
            ]
        },
        {
            "cell_type": "markdown",
            "metadata": {},
            "source": [
                "## 2. How experienced are the majority of gym members?\n",
                "\n",
                "The purpose behind this observation is to understand the common workout program gym members prefer based on their experience level. By visualizing the data, gyms can determine a demographic for advertising their workout programs. In addition, it will encourage more activity and popularity at the gym.\n",
                "\n",
                "-   Beginners (Experience_Level = 1) - Refers to members with little to no knowledge about exercising, however understand the health benefits of increased physical activity and are look for a way to start.\n",
                "\n",
                "-   Intermediate (Experience_Level = 2) - Refers to members with some knowledge about the gym. This includes members who are relatively healthy. In addition, many will have an idea of their goals at the gym.\n",
                "\n",
                "-   Advanced (Experience_Level = 3) - Refers to members who have developed an understanding of their body and know what to do to achieve their goals. In addition, most of these members tend to have greater strength and/or endurance than the average person.\n"
            ]
        },
        {
            "cell_type": "code",
            "execution_count": null,
            "metadata": {},
            "outputs": [],
            "source": [
                "# Creates a new column in the data frame that classifies the experience level into more recognizable terms\n",
                "\n",
                "gym_levels <- gym %>% \n",
                "  mutate(experience = case_when(\n",
                "    Experience_Level == 1 ~ \"Beginner\",\n",
                "    Experience_Level == 2 ~ \"Intermediate\",\n",
                "    Experience_Level == 3 ~ \"Advanced\"\n",
                "  ))\n",
                "\n",
                "# Graphs the the type of workout most gym members decide to do based on\n",
                "# experience level. \n",
                "\n",
                "ggplot(data = gym_levels) + \n",
                "  geom_bar(mapping = aes(x = Gender, fill = Gender)) +\n",
                "  scale_fill_manual(values = c('#1c8d3b', '#0c3918'))+\n",
                "  facet_wrap(~experience) +\n",
                "  labs(title = \"# of Members Based on Experience\",\n",
                "       caption = \"Source: Gym Members Excercise Dataset\") +\n",
                "  ylab(\"# of Gym Members\") +\n",
                "  guides(fill = guide_legend(title = \"Workout\"))\n"
            ]
        },
        {
            "cell_type": "markdown",
            "metadata": {},
            "source": [
                "## 3. What gender makes up the majority of the dataset?\n",
                "\n",
                "At a glance, many individuals view the gym as less inclusive of women and feel uncomfortable with this negative perception. However, is that perception really true?\n",
                "\n",
                "Using `count()`, the values that are `0` are women, while `1` are men, `n` represents the \\# of males/females, and `%` represents the proportion of men/women at the gym.\n",
                "\n",
                "By using `ggplot2`, the data can be visualized.\n"
            ]
        },
        {
            "cell_type": "code",
            "execution_count": null,
            "metadata": {},
            "outputs": [],
            "source": [
                "# Calculates the amount of males and females in the gym\n",
                "sex <- gym %>% \n",
                "  count(Gender = case_when(\n",
                "    Gender == \"Male\" ~ \"Male\",\n",
                "    Gender == \"Female\" ~ \"Female\"\n",
                "  )) %>% \n",
                "  mutate(`%` = round(n/nrow(gym), 4) * 100) %>% \n",
                "  mutate(raw = round(n/nrow(gym), 4))\n",
                "\n",
                "\n",
                "# Prints out the data frame\n",
                "sex\n",
                "\n",
                "# Rearranges values to in dataframe\n",
                "\n",
                "sex <- arrange(sex, desc(n))\n",
                "\n",
                "# Visualizes the amount of men and women that attend the gym\n",
                "\n",
                "ggplot(data = sex) +\n",
                "  geom_col(mapping = aes(x=\"\", y = raw, fill = Gender)) +\n",
                "  geom_text(aes(x=\"\", y=raw, label = paste(`%`, '%', sep = \"\")), \n",
                "            position = position_stack(vjust = 0.5)) +\n",
                "  coord_polar(\"y\", start = 0) +\n",
                "  theme_void() +\n",
                "  scale_fill_manual(values = c('#d88fea', '#FFC300')) +\n",
                "  labs(title = \"Percentage of Men and Women at the Gym\",\n",
                "       caption = \"Source: Gym Members Exercise Dataset\")\n",
                "  \n"
            ]
        },
        {
            "cell_type": "markdown",
            "metadata": {},
            "source": [
                "## 4. What is the most common workout plan for members based on experience level?\n",
                "\n",
                "By filtering out the data set, one can see the most common type of workout plan that members gravitate to based on experience.\n"
            ]
        },
        {
            "cell_type": "code",
            "execution_count": null,
            "metadata": {},
            "outputs": [],
            "source": [
                "ggplot(data = gym_levels) +\n",
                "  geom_bar(mapping = aes(x = Workout_Type, fill = Workout_Type)) +\n",
                "  scale_fill_manual(values = c('#31ff69', '#29d257', '#1c8d3b', '#0c3918')) +\n",
                "  facet_grid(~experience) +\n",
                "  labs(title = \"Workout Type Based on Experience\",\n",
                "       caption = \"Source: Gym Members Excercise Dataset\")+\n",
                "  ylab(\"# of Members\") +\n",
                "  xlab(\"Workout Type\") +\n",
                "  guides(fill = guide_legend(title = \"Workout\"))\n"
            ]
        },
        {
            "cell_type": "markdown",
            "metadata": {},
            "source": [
                "## 5. Age Group in each Experience Level\n",
                "\n",
                "By using a box whisker plot, we can see the distribution of members based on their age and workout experience. The purpose behind this plot is to see the general age range within each level of experience.\n"
            ]
        },
        {
            "cell_type": "code",
            "execution_count": null,
            "metadata": {},
            "outputs": [],
            "source": [
                "# Generating box-whisker plot\n",
                "\n",
                "ggplot(data = gym_levels) +\n",
                "  geom_boxplot(aes(x = experience, y = `Session_Duration (hours)`, fill = Gender)) +\n",
                "  facet_wrap(~Gender) +\n",
                "  guides(fill = \"none\") +\n",
                "  scale_fill_manual(values = c('#d88fea', '#FFC300')) +\n",
                "  labs(title = \"Median Age Based on Experience and Sex\",\n",
                "       caption = \"Source: Gym Members Excercise Dataset\") +\n",
                "  ylab(\"Session Duration (hrs)\") +\n",
                "  xlab(\"Experience\")\n"
            ]
        },
        {
            "cell_type": "markdown",
            "metadata": {},
            "source": [
                "## 6. Calories Burned by Time Spent at the Gym\n",
                "\n",
                "Burning off calories is valuable to one's physical health because once it has been burned off, the body will eventually use its fat reserves as a source of fuel to power the bodily functions. This in turn results in a decrease in body fat.\n",
                "\n",
                "By using `ggplot2` and `cor()`, allows us to plot the relationship between the session time at the gym to amount of calories burned.\n"
            ]
        },
        {
            "cell_type": "code",
            "execution_count": null,
            "metadata": {},
            "outputs": [],
            "source": [
                "# Identifying the correlation between session duration and calories burned\n",
                "round(cor(gym_levels$`Session_Duration (hours)`, gym_levels$Calories_Burned, use = \"complete.obs\"), 3)\n",
                "\n",
                "# Initializing the values linear regression equation\n",
                "activity_reg <- lm(gym_levels$Calories_Burned ~ gym_levels$`Session_Duration (hours)`)\n",
                "activity_coeff <- coefficients(activity_reg)\n",
                "\n",
                "activity_intercept <- activity_coeff[1]\n",
                "activity_slope <- activity_coeff[2]\n",
                "\n",
                "# Scatter plot with linear regression line\n",
                "ggplot(data = gym_levels) +\n",
                "  geom_jitter(mapping = aes(x = `Session_Duration (hours)`, \n",
                "                            y = Calories_Burned, color = Gender)) +\n",
                "  scale_color_manual(values = c(\"#bb80b0\", \"#c8d855\")) +\n",
                "  geom_abline(intercept = activity_intercept, slope = activity_slope)+\n",
                "  labs(title = \"Calories Burned by Time Spent\",\n",
                "       caption = \"Source: Gym Members Exercise Dataset\") +\n",
                "  ylab(\"Calories Burned\") +\n",
                "  xlab(\"Session Duration (Hrs)\")\n"
            ]
        },
        {
            "cell_type": "markdown",
            "metadata": {},
            "source": [
                "## 7. Conclusion\n",
                "\n",
                "Using the bar chart, most gym members mainly consist `Beginners` and `Intermediate`in terms of workout experience. In addition, it tells us that majority of gym members have little to no idea on what to do or what their goals may be. This is important because analyzing `Median Age Based on Experience and Sex` suggests that men and women who are `Beginners` or `Intermediate` spend less time at the gym. To add on, the graph `Calories Burned by Time Spent at the Gym` suggests that there is a positive correlation between the amount of calories burned and time spend at the gym. This means that the amount of calories burn increase as session duration at the gym increases as well.\n",
                "\n",
                "By taking a look at these observations, gym owners can offer classes based on `Workout Type` to encourage more time spent at the gym. The reason being is that most `Beginners` appear to higher amount of interest in `Cardio`, while `Intermediate` members prefer more `Strength` training. This tells gym owners what members will generally gravitate towards in terms of what to do at the gym. This will offer insight on how gym owners will advertise their workout programs to gym members, and could ultimately increase session duration for `Beginner` and `Intermediate` members.\n",
                "\n",
                "Although the plots do not tell us that what variables will have a direct affect on gym activity, it instead tells us why the data appears to be what it is. This is valuable as it allows gym owners to develop marketing strategies to use to advertise. Assuming that marketing strategies are successful, it could lead to an increase in physical activity and potentially increase one's physical capabilities in the long term.\n"
            ]
        },
        {
            "cell_type": "code",
            "execution_count": null,
            "metadata": {},
            "outputs": [],
            "source": [
                "# According to the graph: \"# of Members Based on Experience\"\n",
                "\n",
                "# Q1. What is the most common experience level among the members?\n",
                "Answer_1 <- \"Beginner and Intermediate Members\"\n",
                "\n",
                "# According to the graph: `Percentage of Men and Women at the Gym`\n",
                "\n",
                "# Q2. Is there an equal amount of Men and Women at the gym?\n",
                "Answer_2 <- \"There is more men than women in the gym based on the data. However, there is a small difference\"\n",
                "\n",
                "# According to the graph: `Workout Type Based on Experience`\n",
                "\n",
                "# Q3. What is the most common workout plan for members based on experience level?\n",
                "Answer_3 <- \"For Advanced members, most do Yoga. Intermediate does Strength. Beginners do cardio.\"\n",
                "\n",
                "#According to the graph: `Median Age Based on Experience and Sex`\n",
                "\n",
                "# Q4. Which experience level generally spends the least amount of time at the gym?\n",
                "Answer_4 <- \"Beginners tend to spend the least amount of time at the gym.\"\n"
            ]
        }
    ],
    "metadata": {
        "anaconda-cloud": "",
        "kernelspec": {
            "display_name": "R",
            "langauge": "R",
            "name": "ir"
        },
        "language_info": {
            "codemirror_mode": "r",
            "file_extension": ".r",
            "mimetype": "text/x-r-source",
            "name": "R",
            "pygments_lexer": "r",
            "version": "3.4.1"
        }
    },
    "nbformat": 4,
    "nbformat_minor": 1
}
